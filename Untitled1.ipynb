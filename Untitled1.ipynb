{
  "nbformat": 4,
  "nbformat_minor": 0,
  "metadata": {
    "colab": {
      "provenance": [],
      "authorship_tag": "ABX9TyO+t7lvCPifyKj5kh28COKk",
      "include_colab_link": true
    },
    "kernelspec": {
      "name": "python3",
      "display_name": "Python 3"
    },
    "language_info": {
      "name": "python"
    }
  },
  "cells": [
    {
      "cell_type": "markdown",
      "metadata": {
        "id": "view-in-github",
        "colab_type": "text"
      },
      "source": [
        "<a href=\"https://colab.research.google.com/github/TejasK12/TejasK12/blob/main/Untitled1.ipynb\" target=\"_parent\"><img src=\"https://colab.research.google.com/assets/colab-badge.svg\" alt=\"Open In Colab\"/></a>"
      ]
    },
    {
      "cell_type": "markdown",
      "source": [
        "**HAND** **WRITTEN** **DIGIT** **PREDICTION** - **CLASSIFICATION** **ANALYSIS**"
      ],
      "metadata": {
        "id": "er-_LU5yKmxf"
      }
    },
    {
      "cell_type": "markdown",
      "source": [
        "**IMPORT** **LIBRARY**"
      ],
      "metadata": {
        "id": "FXHcy-OXKzv-"
      }
    },
    {
      "cell_type": "code",
      "execution_count": 2,
      "metadata": {
        "id": "1cZBrhUqKl-G"
      },
      "outputs": [],
      "source": [
        "import pandas as pd"
      ]
    },
    {
      "cell_type": "code",
      "source": [
        "import numpy as np"
      ],
      "metadata": {
        "id": "5ch4o0rRK9h0"
      },
      "execution_count": 3,
      "outputs": []
    },
    {
      "cell_type": "code",
      "source": [
        "import matplotlib.pyplot as plt"
      ],
      "metadata": {
        "id": "_SbV-8eELJHE"
      },
      "execution_count": 4,
      "outputs": []
    },
    {
      "cell_type": "markdown",
      "source": [
        "**Import** **Data**"
      ],
      "metadata": {
        "id": "v7gNZvIZLP81"
      }
    },
    {
      "cell_type": "code",
      "source": [
        "from sklearn.datasets import load_digits"
      ],
      "metadata": {
        "id": "OEMdbo54LPK0"
      },
      "execution_count": 6,
      "outputs": []
    },
    {
      "cell_type": "code",
      "source": [
        "df = load_digits()"
      ],
      "metadata": {
        "id": "a69DfDadLdks"
      },
      "execution_count": 14,
      "outputs": []
    },
    {
      "cell_type": "code",
      "source": [
        "_, axes = plt.subplots(nrows=1, ncols=4, figsize=(10, 3))\n",
        "for ax, image, label in zip(axes, df.images, df.target):\n",
        "    ax.set_axis_off()\n",
        "    ax.imshow(image, cmap=plt.cm.gray_r, interpolation='nearest')"
      ],
      "metadata": {
        "colab": {
          "base_uri": "https://localhost:8080/",
          "height": 205
        },
        "id": "LcixlTDiNZ_g",
        "outputId": "32bc9f34-ccb3-44ec-ef92-3ab28f47cbce"
      },
      "execution_count": 15,
      "outputs": [
        {
          "output_type": "display_data",
          "data": {
            "text/plain": [
              "<Figure size 1000x300 with 4 Axes>"
            ],
            "image/png": "[encoded data removed]"
          },
          "metadata": {}
        }
      ]
    },
    {
      "cell_type": "markdown",
      "source": [
        "**Data** **Preprocessing**"
      ],
      "metadata": {
        "id": "KBdv4QD9N7oJ"
      }
    },
    {
      "cell_type": "markdown",
      "source": [
        "**Flatten** **Image**"
      ],
      "metadata": {
        "id": "UW3ZI4yCORyt"
      }
    },
    {
      "cell_type": "code",
      "source": [
        "df.images.shape"
      ],
      "metadata": {
        "colab": {
          "base_uri": "https://localhost:8080/"
        },
        "id": "pdbD78tpOWMs",
        "outputId": "efcb40ec-1b54-4c42-dd77-bb2243dbbad2"
      },
      "execution_count": 17,
      "outputs": [
        {
          "output_type": "execute_result",
          "data": {
            "text/plain": [
              "(1797, 8, 8)"
            ]
          },
          "metadata": {},
          "execution_count": 17
        }
      ]
    },
    {
      "cell_type": "code",
      "source": [
        "df.images[0]"
      ],
      "metadata": {
        "colab": {
          "base_uri": "https://localhost:8080/"
        },
        "id": "x4xxdk40OsGt",
        "outputId": "353d1ec0-701a-4f43-b892-826d0379f292"
      },
      "execution_count": 18,
      "outputs": [
        {
          "output_type": "execute_result",
          "data": {
            "text/plain": [
              "array([[ 0.,  0.,  5., 13.,  9.,  1.,  0.,  0.],\n",
              "       [ 0.,  0., 13., 15., 10., 15.,  5.,  0.],\n",
              "       [ 0.,  3., 15.,  2.,  0., 11.,  8.,  0.],\n",
              "       [ 0.,  4., 12.,  0.,  0.,  8.,  8.,  0.],\n",
              "       [ 0.,  5.,  8.,  0.,  0.,  9.,  8.,  0.],\n",
              "       [ 0.,  4., 11.,  0.,  1., 12.,  7.,  0.],\n",
              "       [ 0.,  2., 14.,  5., 10., 12.,  0.,  0.],\n",
              "       [ 0.,  0.,  6., 13., 10.,  0.,  0.,  0.]])"
            ]
          },
          "metadata": {},
          "execution_count": 18
        }
      ]
    },
    {
      "cell_type": "code",
      "source": [
        "df.images[0].shape"
      ],
      "metadata": {
        "colab": {
          "base_uri": "https://localhost:8080/"
        },
        "id": "Jz5VtXH9OyMl",
        "outputId": "88669d87-7431-45c2-903d-242b66f8f539"
      },
      "execution_count": 19,
      "outputs": [
        {
          "output_type": "execute_result",
          "data": {
            "text/plain": [
              "(8, 8)"
            ]
          },
          "metadata": {},
          "execution_count": 19
        }
      ]
    },
    {
      "cell_type": "code",
      "source": [
        "len(df.images)"
      ],
      "metadata": {
        "colab": {
          "base_uri": "https://localhost:8080/"
        },
        "id": "2ouzfEOhO4h0",
        "outputId": "75aaaaac-cc03-4d6f-c9b5-792ed373f8d1"
      },
      "execution_count": 20,
      "outputs": [
        {
          "output_type": "execute_result",
          "data": {
            "text/plain": [
              "1797"
            ]
          },
          "metadata": {},
          "execution_count": 20
        }
      ]
    },
    {
      "cell_type": "code",
      "source": [
        "n_samples = len(df.images)\n",
        "data = df.images.reshape((n_samples, -1))"
      ],
      "metadata": {
        "id": "_iTax4pnO7x8"
      },
      "execution_count": 21,
      "outputs": []
    },
    {
      "cell_type": "code",
      "source": [
        "data[0]"
      ],
      "metadata": {
        "colab": {
          "base_uri": "https://localhost:8080/"
        },
        "id": "ou4E0S0NO_7E",
        "outputId": "2a7c78cf-43f2-45fc-fb01-ed18fa212b66"
      },
      "execution_count": 22,
      "outputs": [
        {
          "output_type": "execute_result",
          "data": {
            "text/plain": [
              "array([ 0.,  0.,  5., 13.,  9.,  1.,  0.,  0.,  0.,  0., 13., 15., 10.,\n",
              "       15.,  5.,  0.,  0.,  3., 15.,  2.,  0., 11.,  8.,  0.,  0.,  4.,\n",
              "       12.,  0.,  0.,  8.,  8.,  0.,  0.,  5.,  8.,  0.,  0.,  9.,  8.,\n",
              "        0.,  0.,  4., 11.,  0.,  1., 12.,  7.,  0.,  0.,  2., 14.,  5.,\n",
              "       10., 12.,  0.,  0.,  0.,  0.,  6., 13., 10.,  0.,  0.,  0.])"
            ]
          },
          "metadata": {},
          "execution_count": 22
        }
      ]
    },
    {
      "cell_type": "code",
      "source": [
        "data[0].shape"
      ],
      "metadata": {
        "colab": {
          "base_uri": "https://localhost:8080/"
        },
        "id": "gwI8HQmtPEHD",
        "outputId": "2c865966-e6dd-4762-85a4-7b060f9ca40c"
      },
      "execution_count": 23,
      "outputs": [
        {
          "output_type": "execute_result",
          "data": {
            "text/plain": [
              "(64,)"
            ]
          },
          "metadata": {},
          "execution_count": 23
        }
      ]
    },
    {
      "cell_type": "code",
      "source": [
        "data.shape"
      ],
      "metadata": {
        "colab": {
          "base_uri": "https://localhost:8080/"
        },
        "id": "omO3B-HFPLW0",
        "outputId": "cd0fa6cf-16c5-479c-d319-e46b77a1f136"
      },
      "execution_count": 24,
      "outputs": [
        {
          "output_type": "execute_result",
          "data": {
            "text/plain": [
              "(1797, 64)"
            ]
          },
          "metadata": {},
          "execution_count": 24
        }
      ]
    },
    {
      "cell_type": "markdown",
      "source": [
        "**Scaling** **Image** **Data**"
      ],
      "metadata": {
        "id": "sVquWGrcPQkQ"
      }
    },
    {
      "cell_type": "code",
      "source": [
        "data.min()"
      ],
      "metadata": {
        "colab": {
          "base_uri": "https://localhost:8080/"
        },
        "id": "R3iyHlpnPVf8",
        "outputId": "8df2188e-21ce-41cb-983c-f14191da1882"
      },
      "execution_count": 25,
      "outputs": [
        {
          "output_type": "execute_result",
          "data": {
            "text/plain": [
              "0.0"
            ]
          },
          "metadata": {},
          "execution_count": 25
        }
      ]
    },
    {
      "cell_type": "code",
      "source": [
        "data.max()"
      ],
      "metadata": {
        "colab": {
          "base_uri": "https://localhost:8080/"
        },
        "id": "2JaWslI9PZ30",
        "outputId": "a0880121-bc24-4f8e-f757-b39a75d0e602"
      },
      "execution_count": 26,
      "outputs": [
        {
          "output_type": "execute_result",
          "data": {
            "text/plain": [
              "16.0"
            ]
          },
          "metadata": {},
          "execution_count": 26
        }
      ]
    },
    {
      "cell_type": "code",
      "source": [
        "data = data/16"
      ],
      "metadata": {
        "id": "KaiFz-vZPeFz"
      },
      "execution_count": 27,
      "outputs": []
    },
    {
      "cell_type": "code",
      "source": [
        "data.min()"
      ],
      "metadata": {
        "colab": {
          "base_uri": "https://localhost:8080/"
        },
        "id": "l2XC9NC-PiVO",
        "outputId": "d2b66cf8-6677-4c4b-9cac-88b7b160498b"
      },
      "execution_count": 28,
      "outputs": [
        {
          "output_type": "execute_result",
          "data": {
            "text/plain": [
              "0.0"
            ]
          },
          "metadata": {},
          "execution_count": 28
        }
      ]
    },
    {
      "cell_type": "code",
      "source": [
        "data.max()"
      ],
      "metadata": {
        "colab": {
          "base_uri": "https://localhost:8080/"
        },
        "id": "lfKI2K76Pmg6",
        "outputId": "76e00c20-c93e-4792-8c6a-6eb8cc7c4614"
      },
      "execution_count": 29,
      "outputs": [
        {
          "output_type": "execute_result",
          "data": {
            "text/plain": [
              "1.0"
            ]
          },
          "metadata": {},
          "execution_count": 29
        }
      ]
    },
    {
      "cell_type": "code",
      "source": [
        "data[0]"
      ],
      "metadata": {
        "colab": {
          "base_uri": "https://localhost:8080/"
        },
        "id": "ciwK4660Pp5r",
        "outputId": "39222e27-def6-4546-de2b-d178777da88c"
      },
      "execution_count": 30,
      "outputs": [
        {
          "output_type": "execute_result",
          "data": {
            "text/plain": [
              "array([0.    , 0.    , 0.3125, 0.8125, 0.5625, 0.0625, 0.    , 0.    ,\n",
              "       0.    , 0.    , 0.8125, 0.9375, 0.625 , 0.9375, 0.3125, 0.    ,\n",
              "       0.    , 0.1875, 0.9375, 0.125 , 0.    , 0.6875, 0.5   , 0.    ,\n",
              "       0.    , 0.25  , 0.75  , 0.    , 0.    , 0.5   , 0.5   , 0.    ,\n",
              "       0.    , 0.3125, 0.5   , 0.    , 0.    , 0.5625, 0.5   , 0.    ,\n",
              "       0.    , 0.25  , 0.6875, 0.    , 0.0625, 0.75  , 0.4375, 0.    ,\n",
              "       0.    , 0.125 , 0.875 , 0.3125, 0.625 , 0.75  , 0.    , 0.    ,\n",
              "       0.    , 0.    , 0.375 , 0.8125, 0.625 , 0.    , 0.    , 0.    ])"
            ]
          },
          "metadata": {},
          "execution_count": 30
        }
      ]
    },
    {
      "cell_type": "markdown",
      "source": [
        "**Train** **Test** **Split** **Data**"
      ],
      "metadata": {
        "id": "Hf1Ahp5IPuY9"
      }
    },
    {
      "cell_type": "code",
      "source": [
        "from sklearn.model_selection import train_test_split"
      ],
      "metadata": {
        "id": "plAgCXlMPtTa"
      },
      "execution_count": 32,
      "outputs": []
    },
    {
      "cell_type": "code",
      "source": [
        "X_train, X_test, y_train, y_test = train_test_split(data, df.target, test_size=0.3)"
      ],
      "metadata": {
        "id": "2JVftbUPP5XD"
      },
      "execution_count": 33,
      "outputs": []
    },
    {
      "cell_type": "code",
      "source": [
        "X_train.shape, X_test.shape, y_train.shape, y_test.shape"
      ],
      "metadata": {
        "colab": {
          "base_uri": "https://localhost:8080/"
        },
        "id": "NldP5MlBQBSS",
        "outputId": "b76d0b06-5200-4c52-d417-ba02661783d8"
      },
      "execution_count": 35,
      "outputs": [
        {
          "output_type": "execute_result",
          "data": {
            "text/plain": [
              "((1257, 64), (540, 64), (1257,), (540,))"
            ]
          },
          "metadata": {},
          "execution_count": 35
        }
      ]
    },
    {
      "cell_type": "markdown",
      "source": [
        "**Random** **Forest** **Model**"
      ],
      "metadata": {
        "id": "01zj5fxXQRM9"
      }
    },
    {
      "cell_type": "code",
      "source": [
        "from sklearn.ensemble import RandomForestClassifier"
      ],
      "metadata": {
        "id": "IOC37xy3QPE6"
      },
      "execution_count": 36,
      "outputs": []
    },
    {
      "cell_type": "code",
      "source": [
        "rf = RandomForestClassifier()"
      ],
      "metadata": {
        "id": "Ln2dwpU0QZZx"
      },
      "execution_count": 37,
      "outputs": []
    },
    {
      "cell_type": "code",
      "source": [
        "rf.fit(X_train, y_train)"
      ],
      "metadata": {
        "colab": {
          "base_uri": "https://localhost:8080/",
          "height": 52
        },
        "id": "s0QJ_qETQh2h",
        "outputId": "94445179-aacb-410c-8482-c149066c407c"
      },
      "execution_count": 38,
      "outputs": [
        {
          "output_type": "execute_result",
          "data": {
            "text/plain": [
              "RandomForestClassifier()"
            ],
            "text/html": [
              "<style>#sk-container-id-1 {color: black;background-color: white;}#sk-container-id-1 pre{padding: 0;}#sk-container-id-1 div.sk-toggleable {background-color: white;}#sk-container-id-1 label.sk-toggleable__label {cursor: pointer;display: block;width: 100%;margin-bottom: 0;padding: 0.3em;box-sizing: border-box;text-align: center;}#sk-container-id-1 label.sk-toggleable__label-arrow:before {content: \"▸\";float: left;margin-right: 0.25em;color: #696969;}#sk-container-id-1 label.sk-toggleable__label-arrow:hover:before {color: black;}#sk-container-id-1 div.sk-estimator:hover label.sk-toggleable__label-arrow:before {color: black;}#sk-container-id-1 div.sk-toggleable__content {max-height: 0;max-width: 0;overflow: hidden;text-align: left;background-color: #f0f8ff;}#sk-container-id-1 div.sk-toggleable__content pre {margin: 0.2em;color: black;border-radius: 0.25em;background-color: #f0f8ff;}#sk-container-id-1 input.sk-toggleable__control:checked~div.sk-toggleable__content {max-height: 200px;max-width: 100%;overflow: auto;}#sk-container-id-1 input.sk-toggleable__control:checked~label.sk-toggleable__label-arrow:before {content: \"▾\";}#sk-container-id-1 div.sk-estimator input.sk-toggleable__control:checked~label.sk-toggleable__label {background-color: #d4ebff;}#sk-container-id-1 div.sk-label input.sk-toggleable__control:checked~label.sk-toggleable__label {background-color: #d4ebff;}#sk-container-id-1 input.sk-hidden--visually {border: 0;clip: rect(1px 1px 1px 1px);clip: rect(1px, 1px, 1px, 1px);height: 1px;margin: -1px;overflow: hidden;padding: 0;position: absolute;width: 1px;}#sk-container-id-1 div.sk-estimator {font-family: monospace;background-color: #f0f8ff;border: 1px dotted black;border-radius: 0.25em;box-sizing: border-box;margin-bottom: 0.5em;}#sk-container-id-1 div.sk-estimator:hover {background-color: #d4ebff;}#sk-container-id-1 div.sk-parallel-item::after {content: \"\";width: 100%;border-bottom: 1px solid gray;flex-grow: 1;}#sk-container-id-1 div.sk-label:hover label.sk-toggleable__label {background-color: #d4ebff;}#sk-container-id-1 div.sk-serial::before {content: \"\";position: absolute;border-left: 1px solid gray;box-sizing: border-box;top: 0;bottom: 0;left: 50%;z-index: 0;}#sk-container-id-1 div.sk-serial {display: flex;flex-direction: column;align-items: center;background-color: white;padding-right: 0.2em;padding-left: 0.2em;position: relative;}#sk-container-id-1 div.sk-item {position: relative;z-index: 1;}#sk-container-id-1 div.sk-parallel {display: flex;align-items: stretch;justify-content: center;background-color: white;position: relative;}#sk-container-id-1 div.sk-item::before, #sk-container-id-1 div.sk-parallel-item::before {content: \"\";position: absolute;border-left: 1px solid gray;box-sizing: border-box;top: 0;bottom: 0;left: 50%;z-index: -1;}#sk-container-id-1 div.sk-parallel-item {display: flex;flex-direction: column;z-index: 1;position: relative;background-color: white;}#sk-container-id-1 div.sk-parallel-item:first-child::after {align-self: flex-end;width: 50%;}#sk-container-id-1 div.sk-parallel-item:last-child::after {align-self: flex-start;width: 50%;}#sk-container-id-1 div.sk-parallel-item:only-child::after {width: 0;}#sk-container-id-1 div.sk-dashed-wrapped {border: 1px dashed gray;margin: 0 0.4em 0.5em 0.4em;box-sizing: border-box;padding-bottom: 0.4em;background-color: white;}#sk-container-id-1 div.sk-label label {font-family: monospace;font-weight: bold;display: inline-block;line-height: 1.2em;}#sk-container-id-1 div.sk-label-container {text-align: center;}#sk-container-id-1 div.sk-container {/* jupyter's `normalize.less` sets `[hidden] { display: none; }` but bootstrap.min.css set `[hidden] { display: none !important; }` so we also need the `!important` here to be able to override the default hidden behavior on the sphinx rendered scikit-learn.org. See: https://github.com/scikit-learn/scikit-learn/issues/21755 */display: inline-block !important;position: relative;}#sk-container-id-1 div.sk-text-repr-fallback {display: none;}</style><div id=\"sk-container-id-1\" class=\"sk-top-container\"><div class=\"sk-text-repr-fallback\"><pre>RandomForestClassifier()</pre><b>In a Jupyter environment, please rerun this cell to show the HTML representation or trust the notebook. <br />On GitHub, the HTML representation is unable to render, please try loading this page with nbviewer.org.</b></div><div class=\"sk-container\" hidden><div class=\"sk-item\"><div class=\"sk-estimator sk-toggleable\"><input class=\"sk-toggleable__control sk-hidden--visually\" id=\"sk-estimator-id-1\" type=\"checkbox\" checked><label for=\"sk-estimator-id-1\" class=\"sk-toggleable__label sk-toggleable__label-arrow\">RandomForestClassifier</label><div class=\"sk-toggleable__content\"><pre>RandomForestClassifier()</pre></div></div></div></div></div>"
            ]
          },
          "metadata": {},
          "execution_count": 38
        }
      ]
    },
    {
      "cell_type": "markdown",
      "source": [
        "**Predict** **Test** **Data**"
      ],
      "metadata": {
        "id": "SPuBREKJQu8N"
      }
    },
    {
      "cell_type": "code",
      "source": [
        "y_pred = rf.predict(X_test)"
      ],
      "metadata": {
        "id": "k6cSCIusQstB"
      },
      "execution_count": 39,
      "outputs": []
    },
    {
      "cell_type": "code",
      "source": [
        "y_pred"
      ],
      "metadata": {
        "colab": {
          "base_uri": "https://localhost:8080/"
        },
        "id": "5n3wEr0VQ1z6",
        "outputId": "f15e6e2a-0f9d-4c9a-fb3a-05eae78e07ef"
      },
      "execution_count": 40,
      "outputs": [
        {
          "output_type": "execute_result",
          "data": {
            "text/plain": [
              "array([5, 3, 3, 1, 8, 7, 7, 0, 3, 0, 6, 3, 3, 3, 8, 5, 3, 1, 2, 2, 2, 8,\n",
              "       9, 3, 7, 2, 6, 5, 6, 6, 7, 8, 8, 4, 6, 1, 0, 2, 8, 6, 8, 4, 4, 6,\n",
              "       9, 2, 8, 5, 1, 9, 5, 2, 9, 7, 4, 3, 1, 5, 3, 5, 4, 1, 6, 6, 2, 5,\n",
              "       4, 9, 2, 5, 7, 3, 9, 8, 0, 7, 9, 8, 2, 2, 0, 4, 2, 3, 5, 8, 3, 9,\n",
              "       1, 9, 4, 7, 5, 0, 0, 6, 7, 5, 2, 9, 2, 8, 3, 4, 0, 1, 4, 1, 8, 8,\n",
              "       7, 9, 1, 2, 3, 6, 9, 5, 8, 4, 0, 9, 5, 9, 1, 9, 0, 7, 2, 0, 3, 0,\n",
              "       4, 4, 9, 4, 4, 3, 1, 5, 2, 2, 1, 6, 6, 2, 3, 3, 1, 9, 8, 5, 9, 0,\n",
              "       2, 6, 2, 7, 0, 5, 0, 0, 8, 4, 6, 7, 8, 1, 1, 3, 2, 0, 9, 6, 8, 0,\n",
              "       5, 4, 5, 2, 1, 4, 3, 4, 6, 3, 7, 7, 5, 1, 3, 0, 4, 6, 6, 5, 5, 3,\n",
              "       4, 3, 1, 2, 1, 0, 8, 2, 1, 9, 7, 0, 1, 8, 0, 5, 8, 5, 1, 8, 0, 8,\n",
              "       7, 5, 4, 8, 6, 1, 6, 1, 5, 7, 5, 6, 6, 3, 5, 3, 2, 9, 8, 6, 6, 9,\n",
              "       8, 4, 3, 1, 0, 4, 9, 0, 9, 5, 0, 7, 3, 6, 7, 7, 2, 6, 9, 4, 4, 7,\n",
              "       1, 7, 4, 5, 2, 8, 2, 8, 4, 8, 3, 3, 2, 8, 7, 9, 1, 8, 8, 4, 3, 9,\n",
              "       9, 0, 0, 8, 0, 3, 7, 9, 4, 6, 3, 5, 3, 1, 0, 7, 9, 3, 7, 9, 1, 3,\n",
              "       7, 3, 1, 4, 9, 8, 8, 8, 8, 7, 5, 7, 4, 0, 4, 6, 2, 0, 7, 7, 9, 3,\n",
              "       5, 0, 8, 2, 2, 3, 5, 4, 2, 9, 2, 5, 2, 8, 8, 3, 9, 6, 2, 8, 1, 5,\n",
              "       3, 6, 9, 2, 6, 9, 7, 2, 3, 9, 6, 5, 0, 5, 4, 6, 1, 8, 3, 8, 3, 6,\n",
              "       2, 6, 3, 4, 1, 8, 1, 8, 2, 9, 0, 6, 2, 0, 1, 7, 3, 6, 7, 8, 3, 4,\n",
              "       0, 0, 5, 1, 8, 6, 1, 0, 9, 2, 9, 0, 1, 6, 7, 1, 3, 9, 9, 0, 6, 1,\n",
              "       5, 7, 3, 0, 7, 9, 4, 6, 8, 2, 2, 1, 5, 3, 2, 4, 5, 4, 8, 5, 1, 3,\n",
              "       3, 6, 3, 7, 3, 6, 7, 6, 9, 6, 1, 4, 8, 1, 1, 7, 9, 8, 3, 7, 7, 7,\n",
              "       1, 9, 8, 9, 9, 2, 8, 1, 2, 5, 9, 6, 9, 9, 6, 4, 1, 1, 7, 9, 7, 7,\n",
              "       5, 7, 7, 0, 7, 1, 9, 1, 5, 5, 1, 8, 0, 4, 9, 6, 4, 8, 1, 8, 1, 8,\n",
              "       5, 9, 6, 6, 4, 4, 8, 5, 1, 0, 2, 1, 0, 0, 6, 0, 4, 5, 8, 1, 7, 2,\n",
              "       9, 6, 0, 8, 5, 1, 3, 9, 5, 7, 8, 9])"
            ]
          },
          "metadata": {},
          "execution_count": 40
        }
      ]
    },
    {
      "cell_type": "markdown",
      "source": [
        "**Model** **Accuracy**"
      ],
      "metadata": {
        "id": "8vUzKgwMQ-TQ"
      }
    },
    {
      "cell_type": "code",
      "source": [
        "from sklearn.metrics import confusion_matrix, classification_report"
      ],
      "metadata": {
        "id": "zkCDGyHdQ6gI"
      },
      "execution_count": 41,
      "outputs": []
    },
    {
      "cell_type": "code",
      "source": [
        "confusion_matrix(y_test, y_pred)"
      ],
      "metadata": {
        "colab": {
          "base_uri": "https://localhost:8080/"
        },
        "id": "ss3KgzKWRIoI",
        "outputId": "7ad801d6-a215-4015-bbc4-0223588220be"
      },
      "execution_count": 42,
      "outputs": [
        {
          "output_type": "execute_result",
          "data": {
            "text/plain": [
              "array([[49,  0,  0,  0,  1,  0,  0,  0,  0,  0],\n",
              "       [ 0, 57,  0,  0,  0,  0,  0,  0,  0,  0],\n",
              "       [ 0,  0, 50,  0,  0,  0,  0,  0,  0,  0],\n",
              "       [ 0,  0,  0, 57,  0,  1,  0,  1,  2,  2],\n",
              "       [ 0,  0,  0,  0, 46,  0,  0,  0,  0,  1],\n",
              "       [ 0,  0,  0,  0,  0, 50,  0,  0,  0,  1],\n",
              "       [ 0,  0,  0,  0,  0,  0, 52,  0,  0,  0],\n",
              "       [ 0,  0,  0,  0,  0,  0,  0, 51,  0,  0],\n",
              "       [ 0,  2,  0,  0,  0,  1,  1,  0, 58,  1],\n",
              "       [ 0,  0,  0,  0,  0,  0,  0,  0,  2, 54]])"
            ]
          },
          "metadata": {},
          "execution_count": 42
        }
      ]
    },
    {
      "cell_type": "code",
      "source": [
        "print(classification_report(y_test, y_pred))"
      ],
      "metadata": {
        "colab": {
          "base_uri": "https://localhost:8080/"
        },
        "id": "MtzwZyqlRXLn",
        "outputId": "178107d8-26f4-4e3a-d9d9-032831c5e497"
      },
      "execution_count": 43,
      "outputs": [
        {
          "output_type": "stream",
          "name": "stdout",
          "text": [
            "              precision    recall  f1-score   support\n",
            "\n",
            "           0       1.00      0.98      0.99        50\n",
            "           1       0.97      1.00      0.98        57\n",
            "           2       1.00      1.00      1.00        50\n",
            "           3       1.00      0.90      0.95        63\n",
            "           4       0.98      0.98      0.98        47\n",
            "           5       0.96      0.98      0.97        51\n",
            "           6       0.98      1.00      0.99        52\n",
            "           7       0.98      1.00      0.99        51\n",
            "           8       0.94      0.92      0.93        63\n",
            "           9       0.92      0.96      0.94        56\n",
            "\n",
            "    accuracy                           0.97       540\n",
            "   macro avg       0.97      0.97      0.97       540\n",
            "weighted avg       0.97      0.97      0.97       540\n",
            "\n"
          ]
        }
      ]
    }
  ]
}